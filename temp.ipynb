{
 "cells": [
  {
   "cell_type": "code",
   "execution_count": 1,
   "metadata": {},
   "outputs": [
    {
     "name": "stdout",
     "output_type": "stream",
     "text": [
      "2\n",
      "['a,c', 'a']\n"
     ]
    }
   ],
   "source": [
    "from typing import List\n",
    "a = ['a,c','a']\n",
    "print(a.__len__())\n",
    "\n",
    "print(a)\n"
   ]
  },
  {
   "cell_type": "code",
   "execution_count": 6,
   "metadata": {},
   "outputs": [
    {
     "name": "stdout",
     "output_type": "stream",
     "text": [
      "97\n",
      "0\n"
     ]
    }
   ],
   "source": [
    "print(ord('a'))\n",
    "print(str(0b0*26))"
   ]
  },
  {
   "cell_type": "code",
   "execution_count": 9,
   "metadata": {},
   "outputs": [
    {
     "name": "stdout",
     "output_type": "stream",
     "text": [
      "2\n",
      "6\n"
     ]
    }
   ],
   "source": [
    "x= 0b1 <<(ord('b') -97)\n",
    "print(x)\n",
    "y = x | (0b1 <<(ord('c') -97))\n",
    "print(y)"
   ]
  },
  {
   "cell_type": "code",
   "execution_count": 11,
   "metadata": {},
   "outputs": [
    {
     "name": "stdout",
     "output_type": "stream",
     "text": [
      "[[1, 2, 3], [2, 3]]\n"
     ]
    }
   ],
   "source": [
    "m = {'1':[1,2,3], '2':[2,3]}\n",
    "print(list(m.values()))"
   ]
  },
  {
   "cell_type": "code",
   "execution_count": 16,
   "metadata": {},
   "outputs": [
    {
     "data": {
      "text/plain": [
       "True"
      ]
     },
     "execution_count": 16,
     "metadata": {},
     "output_type": "execute_result"
    }
   ],
   "source": [
    "[1,2] == [1,2]"
   ]
  },
  {
   "cell_type": "code",
   "execution_count": 12,
   "metadata": {},
   "outputs": [
    {
     "data": {
      "text/plain": [
       "['0', 'a', 'a', 'h', 'h', 'i', 'j', 'r', 'z']"
      ]
     },
     "execution_count": 12,
     "metadata": {},
     "output_type": "execute_result"
    }
   ],
   "source": [
    "sorted(\"zjahhria0\")"
   ]
  },
  {
   "cell_type": "code",
   "execution_count": 7,
   "metadata": {},
   "outputs": [
    {
     "name": "stdout",
     "output_type": "stream",
     "text": [
      "[0, 0, 0, 0, 0, 0, 0, 0, 0, 0]\n"
     ]
    }
   ],
   "source": [
    "dp_t =[0]*10\n",
    "print(dp_t)"
   ]
  },
  {
   "cell_type": "code",
   "execution_count": 3,
   "metadata": {},
   "outputs": [
    {
     "data": {
      "text/plain": [
       "3"
      ]
     },
     "execution_count": 3,
     "metadata": {},
     "output_type": "execute_result"
    }
   ],
   "source": [
    "int(2*(2+1)/2)\n"
   ]
  },
  {
   "cell_type": "code",
   "execution_count": 7,
   "metadata": {},
   "outputs": [
    {
     "name": "stdout",
     "output_type": "stream",
     "text": [
      "3\n",
      "string :  \n"
     ]
    }
   ],
   "source": [
    "print(len('aaa'))\n",
    "\n",
    "s = \"abc\"\n",
    "print(\"string : \", s[3:3])\n"
   ]
  },
  {
   "cell_type": "code",
   "execution_count": 9,
   "metadata": {},
   "outputs": [
    {
     "name": "stdout",
     "output_type": "stream",
     "text": [
      "1\n",
      "-1\n",
      "3\n",
      "{1}\n"
     ]
    },
    {
     "data": {
      "text/plain": [
       "[0, 1, 2, 3]"
      ]
     },
     "execution_count": 9,
     "metadata": {},
     "output_type": "execute_result"
    }
   ],
   "source": [
    "i = {1:[2,3], -1:[0,1]}\n",
    "for j in i:\n",
    "    print(j)\n",
    "\n",
    "print(max(i[1]))\n",
    "\n",
    "k = {1:[1,1]}\n",
    "\n",
    "print(set(i.keys()).intersection(set(k.keys())))\n",
    "\n",
    "[0] + [1,2,3]"
   ]
  },
  {
   "cell_type": "code",
   "execution_count": 5,
   "metadata": {},
   "outputs": [
    {
     "name": "stdout",
     "output_type": "stream",
     "text": [
      "[[], [], [], ['A', 'B']]\n"
     ]
    }
   ],
   "source": [
    "countMap = {'A': 3, 'B': 3}\n",
    "maxx =3\n",
    "queue = [[] for i in range(maxx+1)]\n",
    "\n",
    "for c in countMap.keys():\n",
    "    queue[countMap[c]].append(c)\n",
    "\n",
    "print(queue)"
   ]
  },
  {
   "cell_type": "code",
   "execution_count": 1,
   "metadata": {},
   "outputs": [
    {
     "name": "stdout",
     "output_type": "stream",
     "text": [
      "a\n",
      "b\n",
      "c\n",
      "d\n",
      "e\n",
      "0b10\n"
     ]
    }
   ],
   "source": [
    "for c in \"abcde\":\n",
    "    print(c)\n",
    "\n",
    "print(bin(2))"
   ]
  },
  {
   "cell_type": "code",
   "execution_count": 1,
   "metadata": {},
   "outputs": [
    {
     "name": "stdout",
     "output_type": "stream",
     "text": [
      "2\n",
      "1\n",
      "[0, 1]\n"
     ]
    }
   ],
   "source": [
    "print(0b1<<1)\n",
    "print(0b10>>1)\n",
    "print([0] + [1])"
   ]
  },
  {
   "cell_type": "code",
   "execution_count": 7,
   "metadata": {},
   "outputs": [
    {
     "name": "stdout",
     "output_type": "stream",
     "text": [
      "-2\n"
     ]
    }
   ],
   "source": [
    "True^True\n",
    "\n",
    "i = -1\n",
    "\n",
    "i = i^0b1\n",
    "print(i)"
   ]
  },
  {
   "cell_type": "code",
   "execution_count": 1,
   "metadata": {},
   "outputs": [
    {
     "name": "stdout",
     "output_type": "stream",
     "text": [
      "[5, 4, 3]\n",
      "[3, 4]\n",
      "[[0, 0, 0], [0, 0, 0], [0, 0, 0], [0, 0, 0], [0, 0, 0]]\n",
      "[1, 2, 3, 2, 3]\n",
      "B\n",
      "ab\n"
     ]
    },
    {
     "ename": "ValueError",
     "evalue": "invalid literal for int() with base 10: ''",
     "output_type": "error",
     "traceback": [
      "\u001b[1;31m---------------------------------------------------------------------------\u001b[0m",
      "\u001b[1;31mValueError\u001b[0m                                Traceback (most recent call last)",
      "Cell \u001b[1;32mIn[1], line 17\u001b[0m\n\u001b[0;32m     15\u001b[0m \u001b[38;5;28mord\u001b[39m(\u001b[38;5;124m\"\u001b[39m\u001b[38;5;124ma\u001b[39m\u001b[38;5;124m\"\u001b[39m)\n\u001b[0;32m     16\u001b[0m \u001b[38;5;241m2\u001b[39m\u001b[38;5;241m|\u001b[39m\u001b[38;5;241m3\u001b[39m\n\u001b[1;32m---> 17\u001b[0m \u001b[38;5;28;43mint\u001b[39;49m\u001b[43m(\u001b[49m\u001b[38;5;124;43m\"\u001b[39;49m\u001b[38;5;124;43m\"\u001b[39;49m\u001b[43m)\u001b[49m\n",
      "\u001b[1;31mValueError\u001b[0m: invalid literal for int() with base 10: ''"
     ]
    }
   ],
   "source": [
    "a= [1,2,3,4,5]\n",
    "print(a[:1:-1])\n",
    "\n",
    "\n",
    "b= [[1,2],[3,4]]\n",
    "print(max(b))\n",
    "\n",
    "print([[0]*(2+1)]*5)\n",
    "\n",
    "print([1,2,3] + [2,3])\n",
    "\n",
    "print(chr(66))\n",
    "print(min([\"ab\",\"c\"]))\n",
    "\n",
    "ord(\"a\")\n",
    "2|3\n",
    "int(\"\")"
   ]
  },
  {
   "cell_type": "code",
   "execution_count": 4,
   "metadata": {},
   "outputs": [
    {
     "name": "stdout",
     "output_type": "stream",
     "text": [
      "{1, 2}\n"
     ]
    },
    {
     "data": {
      "text/plain": [
       "3"
      ]
     },
     "execution_count": 4,
     "metadata": {},
     "output_type": "execute_result"
    }
   ],
   "source": [
    "a = set([1,2])\n",
    "b=a.copy()\n",
    "print(b)\n",
    "\n",
    "\n",
    "(1^3) + (2^3)"
   ]
  },
  {
   "cell_type": "code",
   "execution_count": 2,
   "metadata": {},
   "outputs": [
    {
     "name": "stdout",
     "output_type": "stream",
     "text": [
      "defaultdict(<function <lambda> at 0x000002D5FF285300>, {0: defaultdict(<class 'int'>, {2: 3, 4: 1}), 1: defaultdict(<class 'int'>, {3: 1, 1: 2})})\n",
      "dict_values([defaultdict(<class 'int'>, {2: 3, 4: 1}), defaultdict(<class 'int'>, {3: 1, 1: 2})])\n",
      "dict_items([(2, 3), (4, 1)])\n",
      "[(2, 3), (4, 1)]\n",
      "dict_items([(3, 1), (1, 2)])\n",
      "[(1, 2), (3, 1)]\n"
     ]
    }
   ],
   "source": [
    "from collections import defaultdict\n",
    "\n",
    "\n",
    "freq_map = defaultdict(lambda: defaultdict(int))\n",
    "\n",
    "for x in [2,2,2,3,1,1,4]:\n",
    "    freq_map[x % 2][x] += 1\n",
    "\n",
    "print(freq_map)\n",
    "print(freq_map.values())\n",
    "\n",
    "\n",
    "for fr in freq_map.values():\n",
    "    print(fr.items())\n",
    "\n",
    "    subsets = sorted(fr.items())\n",
    "    print(subsets)"
   ]
  }
 ],
 "metadata": {
  "kernelspec": {
   "display_name": "Python 3",
   "language": "python",
   "name": "python3"
  },
  "language_info": {
   "codemirror_mode": {
    "name": "ipython",
    "version": 3
   },
   "file_extension": ".py",
   "mimetype": "text/x-python",
   "name": "python",
   "nbconvert_exporter": "python",
   "pygments_lexer": "ipython3",
   "version": "3.12.1"
  }
 },
 "nbformat": 4,
 "nbformat_minor": 2
}
